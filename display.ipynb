{
 "cells": [
  {
   "cell_type": "code",
   "execution_count": null,
   "id": "634c687d-3d8e-4c01-bac0-e2474cdc595f",
   "metadata": {},
   "outputs": [],
   "source": [
    "%matplotlib widget\n",
    "from importlib import reload\n",
    "import display as dp_\n",
    "def dp():\n",
    "    reload(dp_)\n",
    "    return dp_\n",
    "\n",
    "import gshotsheet2py as gs_\n",
    "def gs():\n",
    "    reload(gs_)\n",
    "    return gs_\n",
    "\n",
    "from datetime import datetime, time, timedelta\n",
    "day = timedelta(days=1)\n",
    "min = timedelta(minutes=1)\n",
    "h = timedelta(hours=1)\n",
    "today = datetime.today()\n",
    "now = datetime.now()"
   ]
  },
  {
   "cell_type": "code",
   "execution_count": null,
   "id": "4eb3b342-9b67-40ec-9587-3d7b6f5b805d",
   "metadata": {},
   "outputs": [],
   "source": [
    "# Usage example:\n",
    "data_path = \"/sdf/data/lcls/ds/mec/mecl1038823/hdf5/smalldata/\" #optional\n",
    "shotsheet = gs().Shotsheet('Logbook MEC L-10388')\n",
    "run_number = 115\n",
    "\n",
    "display_instance = dp().Display(run_number = 115, data_path = data_path, shotsheet = shotsheet)"
   ]
  },
  {
   "cell_type": "code",
   "execution_count": null,
   "id": "d230d73d-0887-4a15-93b2-f2299a8e75f6",
   "metadata": {},
   "outputs": [],
   "source": []
  }
 ],
 "metadata": {
  "kernelspec": {
   "display_name": "Python 3 (ipykernel)",
   "language": "python",
   "name": "python3"
  },
  "language_info": {
   "codemirror_mode": {
    "name": "ipython",
    "version": 3
   },
   "file_extension": ".py",
   "mimetype": "text/x-python",
   "name": "python",
   "nbconvert_exporter": "python",
   "pygments_lexer": "ipython3",
   "version": "3.9.15"
  }
 },
 "nbformat": 4,
 "nbformat_minor": 5
}
